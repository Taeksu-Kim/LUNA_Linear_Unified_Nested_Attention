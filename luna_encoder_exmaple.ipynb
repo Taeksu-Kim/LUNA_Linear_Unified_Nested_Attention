{
  "nbformat": 4,
  "nbformat_minor": 0,
  "metadata": {
    "colab": {
      "provenance": []
    },
    "kernelspec": {
      "name": "python3",
      "display_name": "Python 3"
    },
    "language_info": {
      "name": "python"
    }
  },
  "cells": [
    {
      "cell_type": "code",
      "execution_count": 2,
      "metadata": {
        "colab": {
          "base_uri": "https://localhost:8080/"
        },
        "id": "mp9igHKUk6YC",
        "outputId": "d4eb3a79-c365-4422-da7f-ec18590aad5d"
      },
      "outputs": [
        {
          "output_type": "stream",
          "name": "stdout",
          "text": [
            "Cloning into 'LUNA_Linear_Unified_Nested_Attention'...\n",
            "remote: Enumerating objects: 17, done.\u001b[K\n",
            "remote: Counting objects: 100% (17/17), done.\u001b[K\n",
            "remote: Compressing objects: 100% (16/16), done.\u001b[K\n",
            "remote: Total 17 (delta 2), reused 6 (delta 0), pack-reused 0\u001b[K\n",
            "Unpacking objects: 100% (17/17), done.\n"
          ]
        }
      ],
      "source": [
        "!git clone https://github.com/Taeksu-Kim/LUNA_Linear_Unified_Nested_Attention.git"
      ]
    },
    {
      "cell_type": "code",
      "source": [
        "cd LUNA_Linear_Unified_Nested_Attention"
      ],
      "metadata": {
        "colab": {
          "base_uri": "https://localhost:8080/"
        },
        "id": "dyFxVemik9af",
        "outputId": "0e4262ab-2e38-41e5-ac0b-d360df937e6d"
      },
      "execution_count": 3,
      "outputs": [
        {
          "output_type": "stream",
          "name": "stdout",
          "text": [
            "/content/LUNA_Linear_Unified_Nested_Attention\n"
          ]
        }
      ]
    },
    {
      "cell_type": "code",
      "source": [
        "import random\n",
        "import torch\n",
        "\n",
        "from LUNA import *\n",
        "from utils import Config"
      ],
      "metadata": {
        "id": "hhoeZvoHlLY1"
      },
      "execution_count": 10,
      "outputs": []
    },
    {
      "cell_type": "code",
      "source": [
        "config = Config.load('config.json')\n",
        "config"
      ],
      "metadata": {
        "colab": {
          "base_uri": "https://localhost:8080/"
        },
        "id": "zJ-iLsq1lN1e",
        "outputId": "ff9b996e-2745-45d8-da34-5f532a04fc16"
      },
      "execution_count": 7,
      "outputs": [
        {
          "output_type": "execute_result",
          "data": {
            "text/plain": [
              "{'vocab_size': 200,\n",
              " 'd_model': 256,\n",
              " 'max_enc_len': 128,\n",
              " 'pad_id': 0,\n",
              " 'use_decoder': True,\n",
              " 'init_std': 0.02,\n",
              " 'norm_eps': 1e-12,\n",
              " 'drop_out_raito': 0.1,\n",
              " 'num_enc_layers': 3,\n",
              " 'num_att_heads': 4,\n",
              " 'feed_forward_dim': 1024,\n",
              " 'project_embedding_length': 32,\n",
              " 'p_drop_out_raito': 0.3}"
            ]
          },
          "metadata": {},
          "execution_count": 7
        }
      ]
    },
    {
      "cell_type": "code",
      "source": [
        "batch_size = 8\n",
        "seq_len = 128\n",
        "\n",
        "inputs = []\n",
        "input_lengths = []\n",
        "\n",
        "for i in range(batch_size):\n",
        "  input_len = random.randint(seq_len-20, seq_len-10)\n",
        "  pad_len = seq_len - input_len\n",
        "  line = []\n",
        "  for j in range(input_len):\n",
        "    line.append(random.randint(1, config.vocab_size-1))\n",
        "  line += [0] * pad_len\n",
        "  inputs.append(line)\n",
        "  input_lengths.append(input_len)\n",
        "\n",
        "inputs = torch.tensor(inputs)"
      ],
      "metadata": {
        "id": "ZevHsxsulmDc"
      },
      "execution_count": 12,
      "outputs": []
    },
    {
      "cell_type": "code",
      "source": [
        "inputs.shape"
      ],
      "metadata": {
        "colab": {
          "base_uri": "https://localhost:8080/"
        },
        "id": "PGyK-vqVlyPc",
        "outputId": "d30bdcb5-434e-43e0-974c-8582ab2e59f0"
      },
      "execution_count": 13,
      "outputs": [
        {
          "output_type": "execute_result",
          "data": {
            "text/plain": [
              "torch.Size([8, 128])"
            ]
          },
          "metadata": {},
          "execution_count": 13
        }
      ]
    },
    {
      "cell_type": "code",
      "source": [
        "inputs[0]"
      ],
      "metadata": {
        "colab": {
          "base_uri": "https://localhost:8080/"
        },
        "id": "Lu_pNHzilzjr",
        "outputId": "4268221b-2f09-4646-bf7e-fe6b8ca4ec1d"
      },
      "execution_count": 14,
      "outputs": [
        {
          "output_type": "execute_result",
          "data": {
            "text/plain": [
              "tensor([ 66,  82,  64, 103,  80, 113, 191, 183,   2, 115,  68,  30,  49,  75,\n",
              "          8,   6,  27, 168, 147, 160, 172,  11, 162,  62, 187, 162, 191,   2,\n",
              "        190,  48, 179, 133,  39, 133,  23, 182,  85, 114, 188,  43, 100, 194,\n",
              "         51,  99,  11,  39, 179,  88, 198, 189, 148,  14,  62, 168,  87, 199,\n",
              "         91, 116, 112,  63,  11,  30,  73, 182,   5, 143,   8,  31, 106, 136,\n",
              "         13,   1, 179, 160, 131,  17, 180,  74, 132, 191, 157, 171,  92, 143,\n",
              "         21, 127,  38, 138, 133, 167,  83,  42,  32,  17, 119, 185,  62, 149,\n",
              "        139, 129,  38,  19, 195, 100, 167,  59,  37, 118,   0,   0,   0,   0,\n",
              "          0,   0,   0,   0,   0,   0,   0,   0,   0,   0,   0,   0,   0,   0,\n",
              "          0,   0])"
            ]
          },
          "metadata": {},
          "execution_count": 14
        }
      ]
    },
    {
      "cell_type": "code",
      "source": [
        "luna_encoder = Luna_TransformerEncoder(config)"
      ],
      "metadata": {
        "id": "vfcu9xaulZqx"
      },
      "execution_count": 8,
      "outputs": []
    },
    {
      "cell_type": "code",
      "source": [
        "last_hidden_states, p, _, _ = luna_encoder(inputs)"
      ],
      "metadata": {
        "id": "tpW3Ly-WlZtO"
      },
      "execution_count": 17,
      "outputs": []
    },
    {
      "cell_type": "code",
      "source": [
        "last_hidden_states.shape"
      ],
      "metadata": {
        "colab": {
          "base_uri": "https://localhost:8080/"
        },
        "id": "a7K0AL93l_K6",
        "outputId": "813b096f-c42e-45da-9586-2234a4a0f9df"
      },
      "execution_count": 18,
      "outputs": [
        {
          "output_type": "execute_result",
          "data": {
            "text/plain": [
              "torch.Size([8, 128, 256])"
            ]
          },
          "metadata": {},
          "execution_count": 18
        }
      ]
    },
    {
      "cell_type": "code",
      "source": [
        "p.shape"
      ],
      "metadata": {
        "colab": {
          "base_uri": "https://localhost:8080/"
        },
        "id": "P6LdlWCklZvm",
        "outputId": "261b2f5c-c2a0-472f-b002-3ef22977aede"
      },
      "execution_count": 16,
      "outputs": [
        {
          "output_type": "execute_result",
          "data": {
            "text/plain": [
              "torch.Size([8, 32, 256])"
            ]
          },
          "metadata": {},
          "execution_count": 16
        }
      ]
    }
  ]
}
