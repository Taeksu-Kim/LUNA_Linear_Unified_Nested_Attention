{
  "nbformat": 4,
  "nbformat_minor": 0,
  "metadata": {
    "colab": {
      "provenance": []
    },
    "kernelspec": {
      "name": "python3",
      "display_name": "Python 3"
    },
    "language_info": {
      "name": "python"
    }
  },
  "cells": [
    {
      "cell_type": "code",
      "execution_count": 1,
      "metadata": {
        "colab": {
          "base_uri": "https://localhost:8080/"
        },
        "id": "tCSoQ-UZHeRg",
        "outputId": "db942ab0-54d1-4650-f627-64961c274ea9"
      },
      "outputs": [
        {
          "output_type": "stream",
          "name": "stdout",
          "text": [
            "Cloning into 'LUNA_Linear_Unified_Nested_Attention'...\n",
            "remote: Enumerating objects: 52, done.\u001b[K\n",
            "remote: Counting objects:   1% (1/52)\u001b[K\rremote: Counting objects:   3% (2/52)\u001b[K\rremote: Counting objects:   5% (3/52)\u001b[K\rremote: Counting objects:   7% (4/52)\u001b[K\rremote: Counting objects:   9% (5/52)\u001b[K\rremote: Counting objects:  11% (6/52)\u001b[K\rremote: Counting objects:  13% (7/52)\u001b[K\rremote: Counting objects:  15% (8/52)\u001b[K\rremote: Counting objects:  17% (9/52)\u001b[K\rremote: Counting objects:  19% (10/52)\u001b[K\rremote: Counting objects:  21% (11/52)\u001b[K\rremote: Counting objects:  23% (12/52)\u001b[K\rremote: Counting objects:  25% (13/52)\u001b[K\rremote: Counting objects:  26% (14/52)\u001b[K\rremote: Counting objects:  28% (15/52)\u001b[K\rremote: Counting objects:  30% (16/52)\u001b[K\rremote: Counting objects:  32% (17/52)\u001b[K\rremote: Counting objects:  34% (18/52)\u001b[K\rremote: Counting objects:  36% (19/52)\u001b[K\rremote: Counting objects:  38% (20/52)\u001b[K\rremote: Counting objects:  40% (21/52)\u001b[K\rremote: Counting objects:  42% (22/52)\u001b[K\rremote: Counting objects:  44% (23/52)\u001b[K\rremote: Counting objects:  46% (24/52)\u001b[K\rremote: Counting objects:  48% (25/52)\u001b[K\rremote: Counting objects:  50% (26/52)\u001b[K\rremote: Counting objects:  51% (27/52)\u001b[K\rremote: Counting objects:  53% (28/52)\u001b[K\rremote: Counting objects:  55% (29/52)\u001b[K\rremote: Counting objects:  57% (30/52)\u001b[K\rremote: Counting objects:  59% (31/52)\u001b[K\rremote: Counting objects:  61% (32/52)\u001b[K\rremote: Counting objects:  63% (33/52)\u001b[K\rremote: Counting objects:  65% (34/52)\u001b[K\rremote: Counting objects:  67% (35/52)\u001b[K\rremote: Counting objects:  69% (36/52)\u001b[K\rremote: Counting objects:  71% (37/52)\u001b[K\rremote: Counting objects:  73% (38/52)\u001b[K\rremote: Counting objects:  75% (39/52)\u001b[K\rremote: Counting objects:  76% (40/52)\u001b[K\rremote: Counting objects:  78% (41/52)\u001b[K\rremote: Counting objects:  80% (42/52)\u001b[K\rremote: Counting objects:  82% (43/52)\u001b[K\rremote: Counting objects:  84% (44/52)\u001b[K\rremote: Counting objects:  86% (45/52)\u001b[K\rremote: Counting objects:  88% (46/52)\u001b[K\rremote: Counting objects:  90% (47/52)\u001b[K\rremote: Counting objects:  92% (48/52)\u001b[K\rremote: Counting objects:  94% (49/52)\u001b[K\rremote: Counting objects:  96% (50/52)\u001b[K\rremote: Counting objects:  98% (51/52)\u001b[K\rremote: Counting objects: 100% (52/52)\u001b[K\rremote: Counting objects: 100% (52/52), done.\u001b[K\n",
            "remote: Compressing objects:   2% (1/49)\u001b[K\rremote: Compressing objects:   4% (2/49)\u001b[K\rremote: Compressing objects:   6% (3/49)\u001b[K\rremote: Compressing objects:   8% (4/49)\u001b[K\rremote: Compressing objects:  10% (5/49)\u001b[K\rremote: Compressing objects:  12% (6/49)\u001b[K\rremote: Compressing objects:  14% (7/49)\u001b[K\rremote: Compressing objects:  16% (8/49)\u001b[K\rremote: Compressing objects:  18% (9/49)\u001b[K\rremote: Compressing objects:  20% (10/49)\u001b[K\rremote: Compressing objects:  22% (11/49)\u001b[K\rremote: Compressing objects:  24% (12/49)\u001b[K\rremote: Compressing objects:  26% (13/49)\u001b[K\rremote: Compressing objects:  28% (14/49)\u001b[K\rremote: Compressing objects:  30% (15/49)\u001b[K\rremote: Compressing objects:  32% (16/49)\u001b[K\rremote: Compressing objects:  34% (17/49)\u001b[K\rremote: Compressing objects:  36% (18/49)\u001b[K\rremote: Compressing objects:  38% (19/49)\u001b[K\rremote: Compressing objects:  40% (20/49)\u001b[K\rremote: Compressing objects:  42% (21/49)\u001b[K\rremote: Compressing objects:  44% (22/49)\u001b[K\rremote: Compressing objects:  46% (23/49)\u001b[K\rremote: Compressing objects:  48% (24/49)\u001b[K\rremote: Compressing objects:  51% (25/49)\u001b[K\rremote: Compressing objects:  53% (26/49)\u001b[K\rremote: Compressing objects:  55% (27/49)\u001b[K\rremote: Compressing objects:  57% (28/49)\u001b[K\rremote: Compressing objects:  59% (29/49)\u001b[K\rremote: Compressing objects:  61% (30/49)\u001b[K\rremote: Compressing objects:  63% (31/49)\u001b[K\rremote: Compressing objects:  65% (32/49)\u001b[K\rremote: Compressing objects:  67% (33/49)\u001b[K\rremote: Compressing objects:  69% (34/49)\u001b[K\rremote: Compressing objects:  71% (35/49)\u001b[K\rremote: Compressing objects:  73% (36/49)\u001b[K\rremote: Compressing objects:  75% (37/49)\u001b[K\rremote: Compressing objects:  77% (38/49)\u001b[K\rremote: Compressing objects:  79% (39/49)\u001b[K\rremote: Compressing objects:  81% (40/49)\u001b[K\rremote: Compressing objects:  83% (41/49)\u001b[K\rremote: Compressing objects:  85% (42/49)\u001b[K\rremote: Compressing objects:  87% (43/49)\u001b[K\rremote: Compressing objects:  89% (44/49)\u001b[K\rremote: Compressing objects:  91% (45/49)\u001b[K\rremote: Compressing objects:  93% (46/49)\u001b[K\rremote: Compressing objects:  95% (47/49)\u001b[K\rremote: Compressing objects:  97% (48/49)\u001b[K\rremote: Compressing objects: 100% (49/49)\u001b[K\rremote: Compressing objects: 100% (49/49), done.\u001b[K\n",
            "remote: Total 52 (delta 24), reused 7 (delta 2), pack-reused 0\u001b[K\n",
            "Unpacking objects: 100% (52/52), done.\n"
          ]
        }
      ],
      "source": [
        "!git clone https://github.com/Taeksu-Kim/LUNA_Linear_Unified_Nested_Attention.git"
      ]
    },
    {
      "cell_type": "code",
      "source": [
        "cd LUNA_Linear_Unified_Nested_Attention"
      ],
      "metadata": {
        "colab": {
          "base_uri": "https://localhost:8080/"
        },
        "id": "Q3C3Xc0oHgoV",
        "outputId": "a7bd465e-4109-482f-bf01-aca85886eaac"
      },
      "execution_count": 2,
      "outputs": [
        {
          "output_type": "stream",
          "name": "stdout",
          "text": [
            "/content/LUNA_Linear_Unified_Nested_Attention\n"
          ]
        }
      ]
    },
    {
      "cell_type": "code",
      "source": [
        "import random\n",
        "import torch\n",
        "\n",
        "from LUNA import *\n",
        "from utils import Config"
      ],
      "metadata": {
        "id": "1c9TOJYQHgrE"
      },
      "execution_count": 3,
      "outputs": []
    },
    {
      "cell_type": "code",
      "source": [
        "config = Config.load('model_config.json')\n",
        "config"
      ],
      "metadata": {
        "colab": {
          "base_uri": "https://localhost:8080/"
        },
        "id": "2F0UpmYTHgts",
        "outputId": "ea9d8545-5102-4f78-c59f-e25c441356b9"
      },
      "execution_count": 4,
      "outputs": [
        {
          "output_type": "execute_result",
          "data": {
            "text/plain": [
              "{'vocab_size': 200,\n",
              " 'd_model': 256,\n",
              " 'max_enc_len': 128,\n",
              " 'max_dec_len': 64,\n",
              " 'pad_id': 0,\n",
              " 'use_decoder': True,\n",
              " 'init_std': 0.02,\n",
              " 'norm_eps': 1e-12,\n",
              " 'drop_out_raito': 0.1,\n",
              " 'num_enc_layers': 3,\n",
              " 'num_dec_layers': 3,\n",
              " 'num_att_heads': 4,\n",
              " 'feed_forward_dim': 1024,\n",
              " 'p_length': 32,\n",
              " 'p_drop_out_raito': 0.3,\n",
              " 'decoder_only': False,\n",
              " 'dynamic_projection': True}"
            ]
          },
          "metadata": {},
          "execution_count": 4
        }
      ]
    },
    {
      "cell_type": "code",
      "source": [
        "batch_size = 8\n",
        "seq_len = config.max_enc_len\n",
        "\n",
        "inputs = []\n",
        "\n",
        "for i in range(batch_size):\n",
        "  input_len = random.randint(seq_len-20, seq_len-10)\n",
        "  pad_len = seq_len - input_len\n",
        "  line = []\n",
        "  for j in range(input_len):\n",
        "    line.append(random.randint(1, config.vocab_size-1))\n",
        "  line += [0] * pad_len\n",
        "  inputs.append(line)\n",
        "\n",
        "inputs = torch.tensor(inputs)"
      ],
      "metadata": {
        "id": "jOcQNlMbJeAe"
      },
      "execution_count": 5,
      "outputs": []
    },
    {
      "cell_type": "code",
      "source": [
        "batch_size = 8\n",
        "seq_len = config.max_dec_len + 1\n",
        "\n",
        "dec_inputs = []\n",
        "\n",
        "for i in range(batch_size):\n",
        "  input_len = random.randint(seq_len-20, seq_len-10)\n",
        "  pad_len = seq_len - input_len\n",
        "  line = []\n",
        "  for j in range(input_len):\n",
        "    line.append(random.randint(1, config.vocab_size-1))\n",
        "  line += [0] * pad_len\n",
        "  dec_inputs.append(line)\n",
        "\n",
        "dec_inputs = torch.tensor(dec_inputs)"
      ],
      "metadata": {
        "id": "bDI-kWwXJeC-"
      },
      "execution_count": 6,
      "outputs": []
    },
    {
      "cell_type": "code",
      "source": [
        "inputs.shape, dec_inputs.shape"
      ],
      "metadata": {
        "colab": {
          "base_uri": "https://localhost:8080/"
        },
        "id": "WUEZbuXPJeF2",
        "outputId": "f860faec-7eb3-41bc-f0f7-94a7a01e13da"
      },
      "execution_count": 7,
      "outputs": [
        {
          "output_type": "execute_result",
          "data": {
            "text/plain": [
              "(torch.Size([8, 128]), torch.Size([8, 65]))"
            ]
          },
          "metadata": {},
          "execution_count": 7
        }
      ]
    },
    {
      "cell_type": "code",
      "source": [
        "model = Luna_Transformer(config)"
      ],
      "metadata": {
        "id": "RpUFode6Jd93"
      },
      "execution_count": 8,
      "outputs": []
    },
    {
      "cell_type": "code",
      "source": [
        "logits = model(inputs,\n",
        "               dec_inputs[:,:-1])"
      ],
      "metadata": {
        "id": "O7uHOQzyLOlx"
      },
      "execution_count": 9,
      "outputs": []
    },
    {
      "cell_type": "code",
      "source": [
        "logits.shape # [batch_size, seq_len, num_vocab]"
      ],
      "metadata": {
        "colab": {
          "base_uri": "https://localhost:8080/"
        },
        "id": "iNpndhEcLOoR",
        "outputId": "caa81531-49b9-477e-9d4f-b09eb526e613"
      },
      "execution_count": 10,
      "outputs": [
        {
          "output_type": "execute_result",
          "data": {
            "text/plain": [
              "torch.Size([8, 64, 200])"
            ]
          },
          "metadata": {},
          "execution_count": 10
        }
      ]
    },
    {
      "cell_type": "code",
      "source": [],
      "metadata": {
        "id": "Bibo3Uc1ObKJ"
      },
      "execution_count": null,
      "outputs": []
    }
  ]
}